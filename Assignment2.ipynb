{
 "cells": [
  {
   "cell_type": "code",
   "execution_count": 41,
   "id": "7d823cef-da74-446c-bf0e-eba941cf9655",
   "metadata": {},
   "outputs": [],
   "source": [
    "# Assignment 2 Python \n",
    "# Name: Khushi Mundra\n",
    "\n",
    "# Ques1) discuss string slicing and provide easy examples in python?\n",
    "# Ans1) String slicing is a process of extracting a portion of a string. \n"
   ]
  },
  {
   "cell_type": "code",
   "execution_count": 3,
   "id": "ce2caf0a-fbd0-4dbe-b280-8044caff3dac",
   "metadata": {},
   "outputs": [
    {
     "name": "stdout",
     "output_type": "stream",
     "text": [
      "Hello\n"
     ]
    }
   ],
   "source": [
    "# Ans1 - example\n",
    "text = \"Hello, World!\"\n",
    "print(text[0:5])  # Output: Hello\n"
   ]
  },
  {
   "cell_type": "code",
   "execution_count": 5,
   "id": "d3a2bf7f-e816-449b-9a8a-370eb8fba34f",
   "metadata": {},
   "outputs": [
    {
     "name": "stdout",
     "output_type": "stream",
     "text": [
      "Hello\n"
     ]
    }
   ],
   "source": [
    "print(text[:5])  # Output: Hello"
   ]
  },
  {
   "cell_type": "code",
   "execution_count": 6,
   "id": "3d3bd3dd-92c1-4b3c-b8e8-95812b82f06e",
   "metadata": {},
   "outputs": [
    {
     "name": "stdout",
     "output_type": "stream",
     "text": [
      "!dlroW ,olleH\n"
     ]
    }
   ],
   "source": [
    "print(text[::-1]) \n"
   ]
  },
  {
   "cell_type": "code",
   "execution_count": 9,
   "id": "9e56427f-bc18-4429-b1df-80d066de7288",
   "metadata": {},
   "outputs": [],
   "source": [
    "# Ques2) explain the key features of list in python?\n",
    "# ANs2) 1) Lists maintain the order of the elements\n",
    "#       2) The position of each element is fixed, and you can access elements by their index.\n",
    "#       3) Lists are mutable, meaning you can add, remove, or modify elements.\n",
    "#       4) Lists can contain elements of different data types.\n",
    "#       5) Lists can contain other lists as elements"
   ]
  },
  {
   "cell_type": "code",
   "execution_count": 10,
   "id": "dc9080cd-78b6-4b0f-b61e-ee235e2a8d25",
   "metadata": {},
   "outputs": [],
   "source": [
    "# Ques3) Describe how to access, modify, delete the elements in a list with examples"
   ]
  },
  {
   "cell_type": "code",
   "execution_count": 13,
   "id": "13cd3b90-de6a-48e4-a65d-b80daff8cd97",
   "metadata": {},
   "outputs": [
    {
     "name": "stdout",
     "output_type": "stream",
     "text": [
      "apple\n",
      "cherry\n"
     ]
    }
   ],
   "source": [
    "# Ans3)\n",
    "# 1) Accessing Elements, \n",
    "fruits = [\"apple\", \"banana\", \"cherry\"]\n",
    "print(fruits[0]) \n",
    "print(fruits[2])  "
   ]
  },
  {
   "cell_type": "code",
   "execution_count": 16,
   "id": "9e7319d6-f6bd-4d34-be5e-b70124455423",
   "metadata": {},
   "outputs": [
    {
     "name": "stdout",
     "output_type": "stream",
     "text": [
      "['apple', 'blueberry', 'cherry']\n"
     ]
    }
   ],
   "source": [
    "# ANs3) 2) Modifying elements\n",
    "fruits[1] = \"blueberry\"\n",
    "print(fruits)  \n"
   ]
  },
  {
   "cell_type": "code",
   "execution_count": 18,
   "id": "79a837ac-5a4d-40c0-9242-69aa5c13eb5e",
   "metadata": {},
   "outputs": [
    {
     "name": "stdout",
     "output_type": "stream",
     "text": [
      "['apple']\n"
     ]
    }
   ],
   "source": [
    "# Ans3) Deleting Elements\n",
    "del fruits[1]\n",
    "print(fruits)  "
   ]
  },
  {
   "cell_type": "code",
   "execution_count": 19,
   "id": "78f52074-1f23-471c-802e-629c7131fbc2",
   "metadata": {},
   "outputs": [],
   "source": [
    "#Ques4) compare and contrast tuples and list with examples\n",
    "# Ans4) 1) List: Mutable. You can modify a list after it is created (add, remove, or change elements\n",
    "#          Tuple: Immutable. Once a tuple is created, you cannot modify it (no adding, removing, or changing elements).\n",
    "#       2) List: Defined using square brackets [].\n",
    "#          Tuple: Defined using parentheses ().\n",
    "#       3) List: Preferred when you need a collection of items that can change.\n",
    "#          Tuple: Preferred when you need a collection of items that should not change (e.g., fixed data).\n",
    "#       4) List: Can contain lists and tuples as elements.\n",
    "#          Tuple: Can contain lists and tuples as elements.\n",
    "\n"
   ]
  },
  {
   "cell_type": "code",
   "execution_count": 21,
   "id": "13f53ef0-0b55-4ab5-96bd-e32b808246b9",
   "metadata": {},
   "outputs": [
    {
     "name": "stdout",
     "output_type": "stream",
     "text": [
      "['apple', 'blueberry', 'cherry']\n"
     ]
    }
   ],
   "source": [
    "# List Example\n",
    "fruits = [\"apple\", \"banana\", \"cherry\"]\n",
    "fruits[1] = \"blueberry\"\n",
    "print(fruits)  \n",
    "\n",
    "# Tuple Example\n",
    "vegetables = (\"carrot\", \"broccoli\", \"lettuce\")\n",
    "# vegetables[1] = \"spinach\"  # This will raise a TypeError\n"
   ]
  },
  {
   "cell_type": "code",
   "execution_count": 22,
   "id": "07ace165-3301-4f43-8ae9-173a8b4a49b2",
   "metadata": {},
   "outputs": [],
   "source": [
    "# List\n",
    "fruits = [\"apple\", \"banana\", \"cherry\"]\n",
    "\n",
    "# Tuple\n",
    "vegetables = (\"carrot\", \"broccoli\", \"lettuce\")\n"
   ]
  },
  {
   "cell_type": "code",
   "execution_count": 23,
   "id": "2124a18e-b185-4055-9af0-11d5239b5ef6",
   "metadata": {},
   "outputs": [
    {
     "data": {
      "text/plain": [
       "['apple', 'banana', 'cherry']"
      ]
     },
     "execution_count": 23,
     "metadata": {},
     "output_type": "execute_result"
    }
   ],
   "source": [
    "fruits"
   ]
  },
  {
   "cell_type": "code",
   "execution_count": 24,
   "id": "15cd7666-7dd0-470d-976c-a250a09e1324",
   "metadata": {},
   "outputs": [
    {
     "data": {
      "text/plain": [
       "('carrot', 'broccoli', 'lettuce')"
      ]
     },
     "execution_count": 24,
     "metadata": {},
     "output_type": "execute_result"
    }
   ],
   "source": [
    "vegetables"
   ]
  },
  {
   "cell_type": "code",
   "execution_count": 25,
   "id": "b8393400-e2b5-4eb8-818b-93daa1dc6c7f",
   "metadata": {},
   "outputs": [],
   "source": [
    "# Nested List\n",
    "nested_list = [1, [2, 3], [\"a\", \"b\"]]\n",
    "\n",
    "# Nested Tuple\n",
    "nested_tuple = (1, (2, 3), [\"a\", \"b\"])\n"
   ]
  },
  {
   "cell_type": "code",
   "execution_count": 26,
   "id": "e388252e-bf3d-4c92-a15d-a49c076dfa63",
   "metadata": {},
   "outputs": [
    {
     "data": {
      "text/plain": [
       "[1, [2, 3], ['a', 'b']]"
      ]
     },
     "execution_count": 26,
     "metadata": {},
     "output_type": "execute_result"
    }
   ],
   "source": [
    "nested_list"
   ]
  },
  {
   "cell_type": "code",
   "execution_count": 27,
   "id": "683339b4-e62f-4fb1-9605-4908f76d5a7e",
   "metadata": {},
   "outputs": [
    {
     "data": {
      "text/plain": [
       "(1, (2, 3), ['a', 'b'])"
      ]
     },
     "execution_count": 27,
     "metadata": {},
     "output_type": "execute_result"
    }
   ],
   "source": [
    "nested_tuple"
   ]
  },
  {
   "cell_type": "code",
   "execution_count": 28,
   "id": "95831bb4-6c0a-46a3-966b-e1ce675fd672",
   "metadata": {},
   "outputs": [],
   "source": [
    "# Ques5) describe the key features of sets and provide examples of their use?\n",
    "# Ans 5) 1) Sets are an unordered collection of unique elements\n",
    "#        2) Sets automatically eliminate duplicate entries. Each element in a set must be unique.\n",
    "#        3) Sets are mutable, meaning you can add or remove elements after a set has been created.\n",
    "#        4) Sets can contain elements of different data types (e.g., integers, strings, tuples).\n",
    "#        5) Sets support mathematical operations like union, intersection, difference, and symmetric difference."
   ]
  },
  {
   "cell_type": "code",
   "execution_count": 29,
   "id": "7a3f01dd-0a9e-4b24-8c00-0d653c0f4ea1",
   "metadata": {},
   "outputs": [
    {
     "name": "stdout",
     "output_type": "stream",
     "text": [
      "{'cherry', 'banana', 'apple'}\n"
     ]
    }
   ],
   "source": [
    "#Ans5) Examples\n",
    "# Creating a set\n",
    "fruits = {\"apple\", \"banana\", \"cherry\"}\n",
    "print(fruits)  # Output: {'apple', 'banana', 'cherry'}\n"
   ]
  },
  {
   "cell_type": "code",
   "execution_count": 30,
   "id": "50e29e30-6b2d-4104-9d32-db90cad4cf62",
   "metadata": {},
   "outputs": [
    {
     "name": "stdout",
     "output_type": "stream",
     "text": [
      "{'cherry', 'banana', 'date', 'apple'}\n"
     ]
    }
   ],
   "source": [
    "# Adding an element\n",
    "fruits.add(\"date\")\n",
    "print(fruits)  # Output: {'apple', 'banana', 'cherry', 'date'}\n"
   ]
  },
  {
   "cell_type": "code",
   "execution_count": 31,
   "id": "5c68f8ea-0aaf-46dc-a3e7-bd488ef8c018",
   "metadata": {},
   "outputs": [
    {
     "name": "stdout",
     "output_type": "stream",
     "text": [
      "{'cherry', 'date', 'apple'}\n"
     ]
    }
   ],
   "source": [
    "# Removing an element\n",
    "fruits.remove(\"banana\")\n",
    "print(fruits)  # Output: {'apple', 'cherry', 'date'}"
   ]
  },
  {
   "cell_type": "code",
   "execution_count": 32,
   "id": "3c31fb20-f3d1-4b14-bb13-554c2ad1aad0",
   "metadata": {},
   "outputs": [],
   "source": [
    "#Ques6) discuss the use cases of tuples and sets in python programming\n",
    "# Ans6) Use Cases of Tuples:\n",
    "#       1) Functions can return multiple values encapsulated in a tuple, allowing you to return a fixed collection of values.\n",
    "#       2) Tuples are useful for storing fixed collections of related data\n",
    "#       3) When you want to ensure that a collection of items cannot be modified, using a tuple guarantees that the data remains unchanged.\n",
    "#       Use cases of sets:\n",
    "#       1) Sets automatically eliminate duplicate entries\n",
    "#       2) Sets support operations like union, intersection, difference, and symmetric difference.\n",
    "#       3) When you need to ensure that a collection contains only unique items, sets are the best choice.\n"
   ]
  },
  {
   "cell_type": "code",
   "execution_count": 33,
   "id": "2f03ed60-c27a-4357-a439-150d88da49b7",
   "metadata": {},
   "outputs": [
    {
     "name": "stdout",
     "output_type": "stream",
     "text": [
      "{'name': 'Khushi', 'age': 20, 'city': 'New York'}\n"
     ]
    }
   ],
   "source": [
    "# Ques7) Describe how to add, modify, delete the elements in a dictionary with examples\n",
    "# Ans7) Adding Elements to a Dictionary\n",
    "# Creating a dictionary\n",
    "person = {\"name\": \"Khushi\", \"age\": 20}\n",
    "\n",
    "# Adding a new key-value pair\n",
    "person[\"city\"] = \"New York\"\n",
    "print(person)  \n"
   ]
  },
  {
   "cell_type": "code",
   "execution_count": 34,
   "id": "e309a015-d5fe-4360-bb78-82c05ca745a9",
   "metadata": {},
   "outputs": [
    {
     "name": "stdout",
     "output_type": "stream",
     "text": [
      "{'name': 'Khushi', 'age': 26, 'city': 'New York'}\n"
     ]
    }
   ],
   "source": [
    "# Modifying an existing key-value pair\n",
    "person[\"age\"] = 26\n",
    "print(person) \n"
   ]
  },
  {
   "cell_type": "code",
   "execution_count": 35,
   "id": "5de0c981-7c95-48bf-9a2b-a8b8620485ad",
   "metadata": {},
   "outputs": [
    {
     "name": "stdout",
     "output_type": "stream",
     "text": [
      "{'name': 'Khushi', 'age': 26}\n"
     ]
    }
   ],
   "source": [
    "del person[\"city\"]\n",
    "print(person)  \n"
   ]
  },
  {
   "cell_type": "code",
   "execution_count": 36,
   "id": "4238dbbc-ce55-4d65-bb5d-c08724391f56",
   "metadata": {},
   "outputs": [],
   "source": [
    "# Ques 8) discuss the importance of dictionary keys being immutable and provide example\n",
    "# ANs8) Keys must be hashable, meaning they should have a fixed hash value. \n",
    "# Immutable keys ensure that the key remains constant, allowing reliable data retrieval.\n",
    "# Immutable keys allow dictionaries to use hash tables, providing fast access to values. "
   ]
  },
  {
   "cell_type": "code",
   "execution_count": 37,
   "id": "4163053b-4664-4f0f-ab10-d6bcc00b4230",
   "metadata": {},
   "outputs": [
    {
     "name": "stdout",
     "output_type": "stream",
     "text": [
      "Origin\n"
     ]
    }
   ],
   "source": [
    "# Ans8) Examples\n",
    "# Creating a dictionary with tuples as keys\n",
    "coordinates = {(0, 0): \"Origin\", (1, 1): \"Point A\"}\n",
    "\n",
    "# Accessing a value using a tuple key\n",
    "print(coordinates[(0, 0)]) \n"
   ]
  },
  {
   "cell_type": "code",
   "execution_count": null,
   "id": "98e3d09e-8f89-4f64-b895-503f5f6b8d7b",
   "metadata": {},
   "outputs": [],
   "source": []
  }
 ],
 "metadata": {
  "kernelspec": {
   "display_name": "Python 3 (ipykernel)",
   "language": "python",
   "name": "python3"
  },
  "language_info": {
   "codemirror_mode": {
    "name": "ipython",
    "version": 3
   },
   "file_extension": ".py",
   "mimetype": "text/x-python",
   "name": "python",
   "nbconvert_exporter": "python",
   "pygments_lexer": "ipython3",
   "version": "3.10.8"
  }
 },
 "nbformat": 4,
 "nbformat_minor": 5
}
